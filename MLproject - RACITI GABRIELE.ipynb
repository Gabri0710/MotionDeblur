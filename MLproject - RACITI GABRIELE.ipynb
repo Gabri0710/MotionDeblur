{
  "cells": [
    {
      "cell_type": "markdown",
      "metadata": {
        "id": "uvZP_E9uCYIP"
      },
      "source": [
        "# **Motion Deblurring project**\n",
        "\n",
        "**Raciti Gabriele - 0001102147**"
      ]
    },
    {
      "cell_type": "markdown",
      "metadata": {
        "id": "PNHXMUJHScpz"
      },
      "source": [
        "# Data Preparation and Main Function Definitions"
      ]
    },
    {
      "cell_type": "code",
      "execution_count": null,
      "metadata": {
        "id": "APJrJfoECBUT"
      },
      "outputs": [],
      "source": [
        "from tensorflow.keras import layers\n",
        "from tensorflow.keras.models import Model\n",
        "from tensorflow.keras.datasets import mnist\n",
        "import tensorflow as tf\n",
        "import numpy as np\n",
        "import matplotlib.pyplot as plt\n",
        "from tensorflow.keras.layers import Input, Conv2D, MaxPooling2D, UpSampling2D, Activation, BatchNormalization, concatenate\n",
        "from tensorflow.keras.callbacks import ModelCheckpoint\n",
        "import itertools"
      ]
    },
    {
      "cell_type": "markdown",
      "metadata": {
        "id": "nSVNOghlCrEf"
      },
      "source": [
        "We work with images obtained from MNIST."
      ]
    },
    {
      "cell_type": "code",
      "execution_count": null,
      "metadata": {
        "colab": {
          "base_uri": "https://localhost:8080/"
        },
        "id": "L9F1O8xuCtGP",
        "outputId": "7adf14be-316d-444f-ad92-f170a2cd03df"
      },
      "outputs": [
        {
          "output_type": "stream",
          "name": "stdout",
          "text": [
            "Downloading data from https://storage.googleapis.com/tensorflow/tf-keras-datasets/mnist.npz\n",
            "11490434/11490434 [==============================] - 2s 0us/step\n"
          ]
        }
      ],
      "source": [
        "(x_train, y_train), (x_test, y_test) = mnist.load_data()\n",
        "x_train = (x_train/255.).astype(np.float32)\n",
        "x_test = (x_test/255.).astype(np.float32)"
      ]
    },
    {
      "cell_type": "markdown",
      "metadata": {
        "id": "Up-_2Wk2Cw1A"
      },
      "source": [
        "Generator:"
      ]
    },
    {
      "cell_type": "code",
      "execution_count": null,
      "metadata": {
        "id": "KWh6GBlSCya4"
      },
      "outputs": [],
      "source": [
        "def generator(dataset,batchsize,moves=10):\n",
        "  while True:\n",
        "    rand = np.random.randint(dataset.shape[0],size=batchsize)\n",
        "    y_truth = dataset[rand]\n",
        "    blurred = np.copy(y_truth)\n",
        "    moving = tf.expand_dims(y_truth,axis=-1)\n",
        "\n",
        "    for i in range(moves):\n",
        "      #RandomTranslation requires a channel axis\n",
        "      moving = layers.RandomTranslation(0.07,0.07,fill_mode='constant',interpolation='bilinear')(moving)\n",
        "      blurred = blurred + tf.squeeze(moving)\n",
        "    blurred = blurred/(moves+1)\n",
        "    yield(blurred,y_truth)\n"
      ]
    },
    {
      "cell_type": "markdown",
      "metadata": {
        "id": "1dx9i848C68_"
      },
      "source": [
        "Plot image function:"
      ]
    },
    {
      "cell_type": "code",
      "execution_count": null,
      "metadata": {
        "id": "aFD-rBAlC9Y-"
      },
      "outputs": [],
      "source": [
        "def plot(x,y):\n",
        "  no = x.shape[0]\n",
        "  print(no)\n",
        "  plt.figure(figsize=(2*no, 4))\n",
        "  for i in range(no):\n",
        "    # display original\n",
        "    ax = plt.subplot(2, no, i + 1)\n",
        "    plt.imshow(x[i])\n",
        "    plt.gray()\n",
        "    ax.get_xaxis().set_visible(False)\n",
        "    ax.get_yaxis().set_visible(False)\n",
        "\n",
        "    # display reconstruction\n",
        "    ax = plt.subplot(2, no, i + 1 + no)\n",
        "    plt.imshow(y[i])\n",
        "    plt.gray()\n",
        "    ax.get_xaxis().set_visible(False)\n",
        "    ax.get_yaxis().set_visible(False)\n",
        "  plt.show()"
      ]
    },
    {
      "cell_type": "markdown",
      "metadata": {
        "id": "I1Fx3l-bDJ5l"
      },
      "source": [
        "Define the generators and obtain the images (blurred and without blur) :"
      ]
    },
    {
      "cell_type": "code",
      "execution_count": null,
      "metadata": {
        "colab": {
          "base_uri": "https://localhost:8080/"
        },
        "id": "9CGK2UjkDYIN",
        "outputId": "c86bf6ee-a1b1-4bf7-f2f5-279ce89b4aee"
      },
      "outputs": [
        {
          "name": "stdout",
          "output_type": "stream",
          "text": [
            "train shape: (100000, 28, 28)\n",
            "test shape: (10000, 28, 28)\n"
          ]
        }
      ],
      "source": [
        "train_gen = generator(x_train,100000)\n",
        "test_gen = generator(x_test, 10000)\n",
        "\n",
        "train_x,train_y = next(train_gen)\n",
        "test_x, test_y = next(test_gen)\n",
        "\n",
        "print(f'train shape: {train_x.shape}')\n",
        "print(f'test shape: {test_x.shape}')"
      ]
    },
    {
      "cell_type": "markdown",
      "metadata": {
        "id": "DlNc-r5SEM8m"
      },
      "source": [
        "Set the GPU to use it for speeding up model training:"
      ]
    },
    {
      "cell_type": "code",
      "execution_count": null,
      "metadata": {
        "colab": {
          "base_uri": "https://localhost:8080/"
        },
        "id": "_POR3MW1EL9p",
        "outputId": "db43e180-f29d-48c2-d23e-824b3588c36f"
      },
      "outputs": [
        {
          "name": "stdout",
          "output_type": "stream",
          "text": [
            "Gpu inserted\n"
          ]
        }
      ],
      "source": [
        "gpus = tf.config.experimental.list_physical_devices('GPU')\n",
        "if gpus:\n",
        "    tf.config.experimental.set_visible_devices(gpus[0], 'GPU')\n",
        "    print(\"Gpu inserted\")"
      ]
    },
    {
      "cell_type": "markdown",
      "source": [
        "Set a seed for reproducibility:"
      ],
      "metadata": {
        "id": "asonIzIgg62j"
      }
    },
    {
      "cell_type": "code",
      "source": [
        "import random\n",
        "\n",
        "seed = 42\n",
        "random.seed(seed)\n",
        "np.random.seed(seed)\n",
        "tf.random.set_seed(seed)"
      ],
      "metadata": {
        "id": "6twjGlBmg-CU"
      },
      "execution_count": null,
      "outputs": []
    },
    {
      "cell_type": "markdown",
      "metadata": {
        "id": "9mtbfA66Fm6k"
      },
      "source": [
        "# Define the Model"
      ]
    },
    {
      "cell_type": "markdown",
      "metadata": {
        "id": "TKsLOo_4GVTh"
      },
      "source": [
        "The architecture I chose to use for my project is based on a U-NET architecture. In particular, it consists of 2 encoding layers, a 'bridge' layer, and two decoding layers. Compared to the classic structure seen in class, I decided to make some modifications to the hyperparameters due to the complexity of the model and the relatively small input image size.\n",
        "\n",
        "In each encoding layer, two identical layers are applied as follows: initially, a convolutional layer with 5x5 filters is applied to capture broader and more complex features within the images (compared to the typical 3x3 filters). In the 2 encoding layers, there are convolutions with 128 filters in the first one and 256 in the second one. After each convolutional layer, the ReLU activation function is applied to introduce non-linearity into the network. Subsequently, BatchNormalization is performed to improve stability. Finally, a 2x2 max-pooling layer reduces the spatial dimension of the feature maps.\n",
        "\n",
        "Next is the 'bridge' layer, the connection point between the encoder and the decoder. Here, two identical layers are applied as follows: a convolutional layer with 512 filters of size 5x5, followed by the application of the ReLU activation function, and finally BatchNormalization.\n",
        "\n",
        "Following the 'bridge' layer, there are two decoding layers. At the beginning of each layer, a 2x2 up-sampling operation is applied to gradually restore the size of the feature map. Then, a concatenation is performed between the feature maps obtained from up-sampling and the feature maps coming from the corresponding encoder layer. Afterward, two identical layers are applied as follows:\n",
        "\n",
        "First, a convolutional layer with 5x5 filters is applied (convolutions with 256 filters in the first layer and 128 in the second). Next, the ReLU activation function is applied to introduce non-linearity. Finally, BatchNormalization is applied to ensure stability.\n",
        "\n",
        "Finally, an output layer is applied, where a convolutional layer with 1 filter of size 5x5 is applied to the feature maps coming from the decoder. Lastly, a sigmoid activation function is applied to normalize the values between 0 and 1.\n",
        "\n",
        "Thanks to this U-shaped structure, the model combines the ability to capture broader and more complex features within the images using the 5x5 filters, feature extraction, and the ability to preserve the most relevant features for each pooling region thanks to the 2x2 Max-pooling. It also recovers important details during the decoding process using information from different resolution scales through skip connections that link corresponding layers of the encoder and decoder.\n",
        "\n",
        "Therefore, it proves to be an excellent choice for problems like deblurring.\n",
        "\n",
        "I also tried to train simpler models, with the same architecture but different hyperparameters (3x3 kernels and a lower number of filters per layer). They performed well, with naturally shorter training times and a lower number of parameters. However, I decided to use this model because it achieved better MSE results (although the difference was not very significant)."
      ]
    },
    {
      "cell_type": "code",
      "execution_count": null,
      "metadata": {
        "id": "7B9VsDqlR1tA"
      },
      "outputs": [],
      "source": [
        "def build_model():\n",
        "\n",
        "    input_img = Input(shape=(28, 28, 1))\n",
        "\n",
        "    # Encoder 1\n",
        "    x1 = Conv2D(128, (5, 5), padding=\"same\")(input_img)\n",
        "    x1 = Activation('relu')(x1)\n",
        "    x1 = BatchNormalization()(x1)\n",
        "    x1 = Conv2D(128, (5, 5), padding=\"same\")(x1)\n",
        "    x1 = Activation('relu')(x1)\n",
        "    x1 = BatchNormalization()(x1)\n",
        "    p1 = MaxPooling2D((2, 2))(x1)\n",
        "\n",
        "    # Encoder 2\n",
        "    x2 = Conv2D(256, (5, 5), padding=\"same\")(p1)\n",
        "    x2 = Activation('relu')(x2)\n",
        "    x2 = BatchNormalization()(x2)\n",
        "    x2 = Conv2D(256, (5, 5), padding=\"same\")(x2)\n",
        "    x2 = Activation('relu')(x2)\n",
        "    x2 = BatchNormalization()(x2)\n",
        "    p2 = MaxPooling2D((2, 2))(x2)\n",
        "\n",
        "    # Bridge\n",
        "    bridge = Conv2D(512, (5, 5), padding=\"same\")(p2)\n",
        "    bridge = Activation('relu')(bridge)\n",
        "    bridge = BatchNormalization()(bridge)\n",
        "    bridge = Conv2D(512, (5, 5), padding=\"same\")(bridge)\n",
        "    bridge = Activation('relu')(bridge)\n",
        "    bridge = BatchNormalization()(bridge)\n",
        "\n",
        "    # Decoder 1\n",
        "    d1 = UpSampling2D((2, 2))(bridge)\n",
        "    d1 = concatenate([d1, x2], axis=-1)\n",
        "    d1 = Conv2D(256, (5, 5), padding=\"same\")(d1)\n",
        "    d1 = Activation('relu')(d1)\n",
        "    d1 = BatchNormalization()(d1)\n",
        "    d1 = Conv2D(256, (5, 5), padding=\"same\")(d1)\n",
        "    d1 = Activation('relu')(d1)\n",
        "    d1 = BatchNormalization()(d1)\n",
        "\n",
        "    # Decoder 2\n",
        "    d2 = UpSampling2D((2, 2))(d1)\n",
        "    d2 = concatenate([d2, x1], axis=-1)\n",
        "    d2 = Conv2D(128, (5, 5), padding=\"same\")(d2)\n",
        "    d2 = Activation('relu')(d2)\n",
        "    d2 = BatchNormalization()(d2)\n",
        "    d2 = Conv2D(128, (5, 5), padding=\"same\")(d2)\n",
        "    d2 = Activation('relu')(d2)\n",
        "    d2 = BatchNormalization()(d2)\n",
        "\n",
        "    # Output Layer\n",
        "    output = Conv2D(1, (5, 5), padding=\"same\")(d2)\n",
        "    output = Activation('sigmoid')(output)\n",
        "\n",
        "    model = Model(inputs=input_img, outputs=output)\n",
        "\n",
        "    return model"
      ]
    },
    {
      "cell_type": "markdown",
      "source": [
        "We can see the model summary:"
      ],
      "metadata": {
        "id": "gmxsqTcJgJN3"
      }
    },
    {
      "cell_type": "code",
      "source": [
        "model = build_model()\n",
        "\n",
        "model.summary()"
      ],
      "metadata": {
        "colab": {
          "base_uri": "https://localhost:8080/"
        },
        "id": "G7ARHFxGd0BH",
        "outputId": "7f8e0efb-cf01-4b5f-b6c6-35781256250b"
      },
      "execution_count": null,
      "outputs": [
        {
          "output_type": "stream",
          "name": "stdout",
          "text": [
            "Model: \"model\"\n",
            "__________________________________________________________________________________________________\n",
            " Layer (type)                Output Shape                 Param #   Connected to                  \n",
            "==================================================================================================\n",
            " input_1 (InputLayer)        [(None, 28, 28, 1)]          0         []                            \n",
            "                                                                                                  \n",
            " conv2d (Conv2D)             (None, 28, 28, 128)          3328      ['input_1[0][0]']             \n",
            "                                                                                                  \n",
            " activation (Activation)     (None, 28, 28, 128)          0         ['conv2d[0][0]']              \n",
            "                                                                                                  \n",
            " batch_normalization (Batch  (None, 28, 28, 128)          512       ['activation[0][0]']          \n",
            " Normalization)                                                                                   \n",
            "                                                                                                  \n",
            " conv2d_1 (Conv2D)           (None, 28, 28, 128)          409728    ['batch_normalization[0][0]'] \n",
            "                                                                                                  \n",
            " activation_1 (Activation)   (None, 28, 28, 128)          0         ['conv2d_1[0][0]']            \n",
            "                                                                                                  \n",
            " batch_normalization_1 (Bat  (None, 28, 28, 128)          512       ['activation_1[0][0]']        \n",
            " chNormalization)                                                                                 \n",
            "                                                                                                  \n",
            " max_pooling2d (MaxPooling2  (None, 14, 14, 128)          0         ['batch_normalization_1[0][0]'\n",
            " D)                                                                 ]                             \n",
            "                                                                                                  \n",
            " conv2d_2 (Conv2D)           (None, 14, 14, 256)          819456    ['max_pooling2d[0][0]']       \n",
            "                                                                                                  \n",
            " activation_2 (Activation)   (None, 14, 14, 256)          0         ['conv2d_2[0][0]']            \n",
            "                                                                                                  \n",
            " batch_normalization_2 (Bat  (None, 14, 14, 256)          1024      ['activation_2[0][0]']        \n",
            " chNormalization)                                                                                 \n",
            "                                                                                                  \n",
            " conv2d_3 (Conv2D)           (None, 14, 14, 256)          1638656   ['batch_normalization_2[0][0]'\n",
            "                                                                    ]                             \n",
            "                                                                                                  \n",
            " activation_3 (Activation)   (None, 14, 14, 256)          0         ['conv2d_3[0][0]']            \n",
            "                                                                                                  \n",
            " batch_normalization_3 (Bat  (None, 14, 14, 256)          1024      ['activation_3[0][0]']        \n",
            " chNormalization)                                                                                 \n",
            "                                                                                                  \n",
            " max_pooling2d_1 (MaxPoolin  (None, 7, 7, 256)            0         ['batch_normalization_3[0][0]'\n",
            " g2D)                                                               ]                             \n",
            "                                                                                                  \n",
            " conv2d_4 (Conv2D)           (None, 7, 7, 512)            3277312   ['max_pooling2d_1[0][0]']     \n",
            "                                                                                                  \n",
            " activation_4 (Activation)   (None, 7, 7, 512)            0         ['conv2d_4[0][0]']            \n",
            "                                                                                                  \n",
            " batch_normalization_4 (Bat  (None, 7, 7, 512)            2048      ['activation_4[0][0]']        \n",
            " chNormalization)                                                                                 \n",
            "                                                                                                  \n",
            " conv2d_5 (Conv2D)           (None, 7, 7, 512)            6554112   ['batch_normalization_4[0][0]'\n",
            "                                                                    ]                             \n",
            "                                                                                                  \n",
            " activation_5 (Activation)   (None, 7, 7, 512)            0         ['conv2d_5[0][0]']            \n",
            "                                                                                                  \n",
            " batch_normalization_5 (Bat  (None, 7, 7, 512)            2048      ['activation_5[0][0]']        \n",
            " chNormalization)                                                                                 \n",
            "                                                                                                  \n",
            " up_sampling2d (UpSampling2  (None, 14, 14, 512)          0         ['batch_normalization_5[0][0]'\n",
            " D)                                                                 ]                             \n",
            "                                                                                                  \n",
            " concatenate (Concatenate)   (None, 14, 14, 768)          0         ['up_sampling2d[0][0]',       \n",
            "                                                                     'batch_normalization_3[0][0]'\n",
            "                                                                    ]                             \n",
            "                                                                                                  \n",
            " conv2d_6 (Conv2D)           (None, 14, 14, 256)          4915456   ['concatenate[0][0]']         \n",
            "                                                                                                  \n",
            " activation_6 (Activation)   (None, 14, 14, 256)          0         ['conv2d_6[0][0]']            \n",
            "                                                                                                  \n",
            " batch_normalization_6 (Bat  (None, 14, 14, 256)          1024      ['activation_6[0][0]']        \n",
            " chNormalization)                                                                                 \n",
            "                                                                                                  \n",
            " conv2d_7 (Conv2D)           (None, 14, 14, 256)          1638656   ['batch_normalization_6[0][0]'\n",
            "                                                                    ]                             \n",
            "                                                                                                  \n",
            " activation_7 (Activation)   (None, 14, 14, 256)          0         ['conv2d_7[0][0]']            \n",
            "                                                                                                  \n",
            " batch_normalization_7 (Bat  (None, 14, 14, 256)          1024      ['activation_7[0][0]']        \n",
            " chNormalization)                                                                                 \n",
            "                                                                                                  \n",
            " up_sampling2d_1 (UpSamplin  (None, 28, 28, 256)          0         ['batch_normalization_7[0][0]'\n",
            " g2D)                                                               ]                             \n",
            "                                                                                                  \n",
            " concatenate_1 (Concatenate  (None, 28, 28, 384)          0         ['up_sampling2d_1[0][0]',     \n",
            " )                                                                   'batch_normalization_1[0][0]'\n",
            "                                                                    ]                             \n",
            "                                                                                                  \n",
            " conv2d_8 (Conv2D)           (None, 28, 28, 128)          1228928   ['concatenate_1[0][0]']       \n",
            "                                                                                                  \n",
            " activation_8 (Activation)   (None, 28, 28, 128)          0         ['conv2d_8[0][0]']            \n",
            "                                                                                                  \n",
            " batch_normalization_8 (Bat  (None, 28, 28, 128)          512       ['activation_8[0][0]']        \n",
            " chNormalization)                                                                                 \n",
            "                                                                                                  \n",
            " conv2d_9 (Conv2D)           (None, 28, 28, 128)          409728    ['batch_normalization_8[0][0]'\n",
            "                                                                    ]                             \n",
            "                                                                                                  \n",
            " activation_9 (Activation)   (None, 28, 28, 128)          0         ['conv2d_9[0][0]']            \n",
            "                                                                                                  \n",
            " batch_normalization_9 (Bat  (None, 28, 28, 128)          512       ['activation_9[0][0]']        \n",
            " chNormalization)                                                                                 \n",
            "                                                                                                  \n",
            " conv2d_10 (Conv2D)          (None, 28, 28, 1)            3201      ['batch_normalization_9[0][0]'\n",
            "                                                                    ]                             \n",
            "                                                                                                  \n",
            " activation_10 (Activation)  (None, 28, 28, 1)            0         ['conv2d_10[0][0]']           \n",
            "                                                                                                  \n",
            "==================================================================================================\n",
            "Total params: 20908801 (79.76 MB)\n",
            "Trainable params: 20903681 (79.74 MB)\n",
            "Non-trainable params: 5120 (20.00 KB)\n",
            "__________________________________________________________________________________________________\n"
          ]
        }
      ]
    },
    {
      "cell_type": "markdown",
      "metadata": {
        "id": "mMUf-Hj8jrnC"
      },
      "source": [
        "# Train the model"
      ]
    },
    {
      "cell_type": "markdown",
      "metadata": {
        "id": "zfHhTQWtGNvm"
      },
      "source": [
        "The best values for the hyperparameters regarding the optimizer, number of epochs and batch size for training were obtained through a process of comparing the best performance achieved based on the validation loss. Thanks to the fixed seed for reproducibility, I was able to find the parameter combinations where the validation loss is better. I tried various combinations for them, and these turned out to be the best ones."
      ]
    },
    {
      "cell_type": "code",
      "execution_count": null,
      "metadata": {
        "colab": {
          "base_uri": "https://localhost:8080/"
        },
        "id": "55x3BwSSF6jT",
        "outputId": "efa8d5cf-2da6-427d-9fed-0d58e761c909"
      },
      "outputs": [
        {
          "name": "stdout",
          "output_type": "stream",
          "text": [
            "Epoch 1/29\n",
            "3125/3125 [==============================] - 111s 34ms/step - loss: 0.0124 - val_loss: 0.0042\n",
            "Epoch 2/29\n",
            "3125/3125 [==============================] - 105s 34ms/step - loss: 0.0033 - val_loss: 0.0132\n",
            "Epoch 3/29\n",
            "3125/3125 [==============================] - 105s 34ms/step - loss: 0.0025 - val_loss: 0.0023\n",
            "Epoch 4/29\n",
            "3125/3125 [==============================] - 105s 34ms/step - loss: 0.0020 - val_loss: 0.0020\n",
            "Epoch 5/29\n",
            "3125/3125 [==============================] - 105s 34ms/step - loss: 0.0018 - val_loss: 0.0020\n",
            "Epoch 6/29\n",
            "3125/3125 [==============================] - 105s 33ms/step - loss: 0.0016 - val_loss: 0.0018\n",
            "Epoch 7/29\n",
            "3125/3125 [==============================] - 104s 33ms/step - loss: 0.0014 - val_loss: 0.0016\n",
            "Epoch 8/29\n",
            "3125/3125 [==============================] - 105s 34ms/step - loss: 0.0013 - val_loss: 0.0016\n",
            "Epoch 9/29\n",
            "3125/3125 [==============================] - 105s 34ms/step - loss: 0.0012 - val_loss: 0.0016\n",
            "Epoch 10/29\n",
            "3125/3125 [==============================] - 105s 34ms/step - loss: 0.0011 - val_loss: 0.0014\n",
            "Epoch 11/29\n",
            "3125/3125 [==============================] - 106s 34ms/step - loss: 9.9099e-04 - val_loss: 0.0016\n",
            "Epoch 12/29\n",
            "3125/3125 [==============================] - 106s 34ms/step - loss: 9.2535e-04 - val_loss: 0.0013\n",
            "Epoch 13/29\n",
            "3125/3125 [==============================] - 106s 34ms/step - loss: 8.6152e-04 - val_loss: 0.0013\n",
            "Epoch 14/29\n",
            "3125/3125 [==============================] - 105s 34ms/step - loss: 8.0744e-04 - val_loss: 0.0013\n",
            "Epoch 15/29\n",
            "3125/3125 [==============================] - 105s 34ms/step - loss: 7.6715e-04 - val_loss: 0.0013\n",
            "Epoch 16/29\n",
            "3125/3125 [==============================] - 105s 34ms/step - loss: 7.3158e-04 - val_loss: 0.0012\n",
            "Epoch 17/29\n",
            "3125/3125 [==============================] - 105s 34ms/step - loss: 6.8874e-04 - val_loss: 0.0012\n",
            "Epoch 18/29\n",
            "3125/3125 [==============================] - 105s 34ms/step - loss: 6.5303e-04 - val_loss: 0.0015\n",
            "Epoch 19/29\n",
            "3125/3125 [==============================] - 105s 34ms/step - loss: 6.2330e-04 - val_loss: 0.0017\n",
            "Epoch 20/29\n",
            "3125/3125 [==============================] - 105s 34ms/step - loss: 6.0527e-04 - val_loss: 0.0013\n",
            "Epoch 21/29\n",
            "3125/3125 [==============================] - 105s 34ms/step - loss: 5.7151e-04 - val_loss: 0.0012\n",
            "Epoch 22/29\n",
            "3125/3125 [==============================] - 105s 34ms/step - loss: 5.4694e-04 - val_loss: 0.0013\n",
            "Epoch 23/29\n",
            "3125/3125 [==============================] - 105s 34ms/step - loss: 5.2756e-04 - val_loss: 0.0014\n",
            "Epoch 24/29\n",
            "3125/3125 [==============================] - 105s 33ms/step - loss: 5.0644e-04 - val_loss: 0.0012\n",
            "Epoch 25/29\n",
            "3125/3125 [==============================] - 105s 34ms/step - loss: 4.8858e-04 - val_loss: 0.0013\n",
            "Epoch 26/29\n",
            "3125/3125 [==============================] - 105s 34ms/step - loss: 4.6704e-04 - val_loss: 0.0012\n",
            "Epoch 27/29\n",
            "3125/3125 [==============================] - 105s 34ms/step - loss: 4.5276e-04 - val_loss: 0.0011\n",
            "Epoch 28/29\n",
            "3125/3125 [==============================] - 105s 34ms/step - loss: 4.3787e-04 - val_loss: 0.0011\n",
            "Epoch 29/29\n",
            "3125/3125 [==============================] - 105s 34ms/step - loss: 4.2235e-04 - val_loss: 0.0011\n"
          ]
        },
        {
          "data": {
            "text/plain": [
              "<keras.src.callbacks.History at 0x790d1019cc10>"
            ]
          },
          "execution_count": 9,
          "metadata": {},
          "output_type": "execute_result"
        }
      ],
      "source": [
        "opt = tf.keras.optimizers.Adam(learning_rate=0.001, beta_1=0.9, beta_2=0.99)\n",
        "model.compile(loss='mean_squared_error', optimizer=opt)\n",
        "\n",
        "model.fit(train_x, train_y, epochs=29, batch_size=32, validation_data=(test_x, test_y))"
      ]
    },
    {
      "cell_type": "markdown",
      "metadata": {
        "id": "CpueQvcAco9P"
      },
      "source": [
        "# Evaluation"
      ]
    },
    {
      "cell_type": "markdown",
      "metadata": {
        "id": "J9Bgo5dHkOwZ"
      },
      "source": [
        "Below there are the results obtained by evaluating the model on 10000 blurred versions of the validation set, repeated 10 times. The average MSE result over the 10 rounds is provided, along with the standard deviation."
      ]
    },
    {
      "cell_type": "code",
      "execution_count": null,
      "metadata": {
        "colab": {
          "base_uri": "https://localhost:8080/"
        },
        "id": "B8v8eN3ncowL",
        "outputId": "855313db-f035-4124-acab-73e9bbfa02d8"
      },
      "outputs": [
        {
          "name": "stdout",
          "output_type": "stream",
          "text": [
            "313/313 [==============================] - 4s 14ms/step - loss: 0.0011\n",
            "313/313 [==============================] - 4s 14ms/step - loss: 0.0011\n",
            "313/313 [==============================] - 4s 14ms/step - loss: 0.0011\n",
            "313/313 [==============================] - 4s 14ms/step - loss: 0.0011\n",
            "313/313 [==============================] - 4s 14ms/step - loss: 0.0011\n",
            "313/313 [==============================] - 4s 14ms/step - loss: 0.0011\n",
            "313/313 [==============================] - 4s 14ms/step - loss: 0.0010\n",
            "313/313 [==============================] - 4s 14ms/step - loss: 0.0011\n",
            "313/313 [==============================] - 4s 14ms/step - loss: 0.0010\n",
            "313/313 [==============================] - 4s 14ms/step - loss: 0.0011\n",
            "Mean MSE: 0.0010706002241931856, Standard Deviation: 1.9447984818459775e-05\n"
          ]
        }
      ],
      "source": [
        "mse_scores = []\n",
        "\n",
        "for i in range(10):\n",
        "    blurred_images, original_images = next(test_gen)\n",
        "    test_loss = model.evaluate(blurred_images, original_images)\n",
        "\n",
        "    mse_scores.append(test_loss)\n",
        "\n",
        "\n",
        "mean_mse = np.mean(mse_scores)\n",
        "std_mse = np.std(mse_scores)\n",
        "print(f'Mean MSE: {mean_mse}, Standard Deviation: {std_mse}')\n"
      ]
    },
    {
      "cell_type": "markdown",
      "metadata": {
        "id": "nniz3SknKmfx"
      },
      "source": [
        "# Results"
      ]
    },
    {
      "cell_type": "code",
      "execution_count": null,
      "metadata": {
        "colab": {
          "base_uri": "https://localhost:8080/"
        },
        "id": "3_0K-3qHKmIC",
        "outputId": "2eee3c87-23b7-4d14-f1cd-bb3f100c846a"
      },
      "outputs": [
        {
          "name": "stdout",
          "output_type": "stream",
          "text": [
            "Mean MSE: 0.0010706002241931856, Standard Deviation: 1.9447984818459775e-05\n"
          ]
        }
      ],
      "source": [
        "print(f'Mean MSE: {mean_mse}, Standard Deviation: {std_mse}')"
      ]
    },
    {
      "cell_type": "markdown",
      "metadata": {
        "id": "mF5Svu1vklOg"
      },
      "source": [
        "# Plotting example"
      ]
    },
    {
      "cell_type": "markdown",
      "metadata": {
        "id": "t-cXO_whj7E3"
      },
      "source": [
        "We display the results of a prediction from the model on 8 blurred images:"
      ]
    },
    {
      "cell_type": "code",
      "execution_count": null,
      "metadata": {
        "colab": {
          "base_uri": "https://localhost:8080/"
        },
        "id": "Zd5q8aOqTnNr",
        "outputId": "43c5dd45-f9f9-4841-ef70-0b1a57de1d8d"
      },
      "outputs": [
        {
          "name": "stdout",
          "output_type": "stream",
          "text": [
            "313/313 [==============================] - 2s 4ms/step\n"
          ]
        }
      ],
      "source": [
        "pred_images = model.predict(blurred_images)"
      ]
    },
    {
      "cell_type": "markdown",
      "metadata": {
        "id": "0tRbhxU-kNa-"
      },
      "source": [
        "Plot blurred and predicted images:"
      ]
    },
    {
      "cell_type": "code",
      "execution_count": null,
      "metadata": {
        "colab": {
          "base_uri": "https://localhost:8080/",
          "height": 353
        },
        "id": "SVIpVrpJjkR0",
        "outputId": "7b055928-448d-4d71-9a6d-19429390a8ea"
      },
      "outputs": [
        {
          "name": "stdout",
          "output_type": "stream",
          "text": [
            "8\n"
          ]
        },
        {
          "data": {
            "image/png": "[encoded data removed]",
            "text/plain": [
              "<Figure size 1600x400 with 16 Axes>"
            ]
          },
          "metadata": {},
          "output_type": "display_data"
        }
      ],
      "source": [
        "plot(blurred_images[:8], pred_images[:8])"
      ]
    },
    {
      "cell_type": "markdown",
      "metadata": {
        "id": "V0DT43y2kQxi"
      },
      "source": [
        "Plot predicted and original images (for comparison):"
      ]
    },
    {
      "cell_type": "code",
      "execution_count": null,
      "metadata": {
        "colab": {
          "base_uri": "https://localhost:8080/",
          "height": 353
        },
        "id": "eNAp5pvgiyHr",
        "outputId": "54f68e53-fd74-42bc-800a-35f8c669878b"
      },
      "outputs": [
        {
          "name": "stdout",
          "output_type": "stream",
          "text": [
            "8\n"
          ]
        },
        {
          "data": {
            "image/png": "[encoded data removed]",
            "text/plain": [
              "<Figure size 1600x400 with 16 Axes>"
            ]
          },
          "metadata": {},
          "output_type": "display_data"
        }
      ],
      "source": [
        "plot(pred_images[:8], original_images[:8])"
      ]
    },
    {
      "cell_type": "markdown",
      "source": [
        "# Conclusions"
      ],
      "metadata": {
        "id": "Sd7B6STqsFhr"
      }
    },
    {
      "cell_type": "markdown",
      "source": [
        "In this project, I tried to create the best model capable of minimizing the MSE between predicted and original images. Basing the model architecture on the U-NET architecture, I was able to achieve excellent results, with a very low MSE value. Thanks to the use of 5x5 filters capable of capturing broader and more complex features, along with the encoder-decoder structure with skip connections that facilitated the preservation and reintegration of crucial information, the model struck a good balance between performance and efficiency, achieving a higher quality of deblurring compared to simpler architectures. However, I have also explored excellent compromises with simpler models with smaller kernels (3x3) and a reduced number of filters per layer (64-128-256 instead of 128-256-512). They have been able to combine in the best possible way speed and results (slightly lower than those obtained), as already mentioned previously during the model description.\n",
        "\n",
        "In conclusion, as demonstrated, we can say that the U-NET architecture proves to be an excellent choice for image deblurring."
      ],
      "metadata": {
        "id": "AvpSfshZsHlc"
      }
    }
  ],
  "metadata": {
    "accelerator": "GPU",
    "colab": {
      "gpuType": "T4",
      "machine_shape": "hm",
      "provenance": []
    },
    "kernelspec": {
      "display_name": "Python 3",
      "name": "python3"
    },
    "language_info": {
      "codemirror_mode": {
        "name": "ipython",
        "version": 3
      },
      "file_extension": ".py",
      "mimetype": "text/x-python",
      "name": "python",
      "nbconvert_exporter": "python",
      "pygments_lexer": "ipython3",
      "version": "3.10.11"
    }
  },
  "nbformat": 4,
  "nbformat_minor": 0
}